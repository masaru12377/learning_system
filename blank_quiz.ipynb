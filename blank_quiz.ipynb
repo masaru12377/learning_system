{
 "cells": [
  {
   "cell_type": "code",
   "execution_count": 2,
   "id": "207c062d-d860-49dd-bff0-cb626c5bb194",
   "metadata": {},
   "outputs": [],
   "source": [
    "import sqlite3"
   ]
  },
  {
   "cell_type": "code",
   "execution_count": 3,
   "id": "d33cbe3d-e41c-4914-a793-7c3734336b35",
   "metadata": {},
   "outputs": [],
   "source": [
    "dbname = 'blank_quiz.db'"
   ]
  },
  {
   "cell_type": "code",
   "execution_count": 3,
   "id": "ba3740f7-469c-45ef-a244-6a1618de646a",
   "metadata": {},
   "outputs": [],
   "source": [
    "# 接続。なければDBを作成する。\n",
    "conn = sqlite3.connect(dbname)\n",
    "# カーソルを取得\n",
    "c = conn.cursor()\n",
    "\n",
    "#テーブルの有無を確認する\n",
    "c.execute(\"SELECT * FROM sqlite_master WHERE type='table' and name='quiz'\")\n",
    "c.execute(\"SELECT * FROM sqlite_master WHERE type='table' and name='ans'\")\n",
    "c.execute(\"SELECT * FROM sqlite_master WHERE type='table' and name='connect'\")\n",
    "\n",
    "# テーブルを作成（テーブルがない場合）\n",
    "if not c.fetchone():\n",
    "    c.execute('CREATE TABLE quiz (id integer primary key autoincrement, text varchar(50))')\n",
    "    c.execute('CREATE TABLE ans (id integer primary key autoincrement, word varchar(50))')\n",
    "    c.execute('CREATE TABLE connect (quiz_id integer,ans_id integer)')\n",
    "# コミット\n",
    "conn.commit() \n",
    "# コネクションをクローズ\n",
    "conn.close()"
   ]
  },
  {
   "cell_type": "code",
   "execution_count": 4,
   "id": "1968cbcf-94e3-4830-b2c4-f7d8537f37cb",
   "metadata": {},
   "outputs": [],
   "source": [
    "# conn = sqlite3.connect(dbname)\n",
    "# conn.commit()\n",
    "# conn.close()"
   ]
  },
  {
   "cell_type": "code",
   "execution_count": 11,
   "id": "dfc5df30-4435-4614-8e29-98021cfd0f09",
   "metadata": {},
   "outputs": [
    {
     "name": "stdout",
     "output_type": "stream",
     "text": [
      "quiz_id:4\n"
     ]
    }
   ],
   "source": [
    "conn = sqlite3.connect(dbname)\n",
    "c = conn.cursor()\n",
    "# 問題と答えを変数に代入する\n",
    "quiz_text = \"推測統計には推定と検定という２つのタイプがある。\"\n",
    "ans_list = ['推定','検定']\n",
    "# 問題をquizテーブルに登録する\n",
    "c.execute( \"INSERT INTO quiz(text) VALUES (?)\", [quiz_text])\n",
    "c.execute('select id from quiz where text=?',[quiz_text])\n",
    "quiz = c.fetchall()\n",
    "quiz_id = quiz[0][0]\n",
    "print(f\"quiz_id:{quiz[0][0]}\")\n",
    "#答えをans1テーブルに登録する\n",
    "for ans_text in ans_list:\n",
    "    c.execute( \"INSERT INTO ans(word) VALUES (?)\",[ans_text])\n",
    "    #問題と答えの関係を関係テーブルに登録する\n",
    "    c.execute('select id from ans where word=?',[ans_text])\n",
    "    ans = c.fetchall()\n",
    "    ans_id = ans[0][0]\n",
    "    c.execute( \"INSERT INTO connect(quiz_id, ans_id) VALUES (?,?)\",[quiz_id,ans_id])\n",
    "#後処理\n",
    "conn.commit()\n",
    "conn.close()"
   ]
  },
  {
   "cell_type": "code",
   "execution_count": 12,
   "id": "6e7b80f9-b665-4b00-b48a-1822e647cc11",
   "metadata": {},
   "outputs": [
    {
     "name": "stdout",
     "output_type": "stream",
     "text": [
      "quiz: 推測統計には推定と検定という２つのタイプがある。\n",
      "answer1: 推定\n",
      "answer2: 検定\n",
      "推測統計には＜1＞と＜2＞という２つのタイプがある。\n"
     ]
    }
   ],
   "source": [
    "conn = sqlite3.connect(dbname)\n",
    "c = conn.cursor()\n",
    "#どの問題を呼び出すか選択する\n",
    "quiz_id = 4\n",
    "#問題文を抽出する\n",
    "c.execute('select text from quiz where id=?',[quiz_id])\n",
    "quiz = c.fetchall()\n",
    "if quiz == []:\n",
    "    print(\"quistion is nothing\")\n",
    "else:\n",
    "    quiz = quiz[0][0]\n",
    "    print(f\"quiz: {quiz}\")\n",
    "#答えを抽出する\n",
    "c.execute('SELECT distinct ans.word FROM quiz,connect,ans WHERE connect.quiz_id == ? AND connect.ans_id == ans.id',[quiz_id])\n",
    "ans_list = c.fetchall()\n",
    "\n",
    "if len(ans_list) == 0:\n",
    "    print(\"answer is nothing\")\n",
    "else:\n",
    "    for i in range(len(ans_list)):\n",
    "        print(f\"answer{i+1}: {ans_list[i][0]}\")\n",
    "        quiz = quiz.replace(ans_list[i][0],'＜{}＞'.format(i+1))            \n",
    "#問題を表示する\n",
    "print(quiz)\n",
    "\n",
    "conn.close()"
   ]
  },
  {
   "cell_type": "code",
   "execution_count": null,
   "id": "1541fe52-e836-4e5a-bead-634619ae2c1e",
   "metadata": {},
   "outputs": [],
   "source": []
  }
 ],
 "metadata": {
  "kernelspec": {
   "display_name": "Python 3 (ipykernel)",
   "language": "python",
   "name": "python3"
  },
  "language_info": {
   "codemirror_mode": {
    "name": "ipython",
    "version": 3
   },
   "file_extension": ".py",
   "mimetype": "text/x-python",
   "name": "python",
   "nbconvert_exporter": "python",
   "pygments_lexer": "ipython3",
   "version": "3.9.6"
  }
 },
 "nbformat": 4,
 "nbformat_minor": 5
}
