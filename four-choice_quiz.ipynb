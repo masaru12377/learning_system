{
 "cells": [
  {
   "cell_type": "code",
   "execution_count": 2,
   "id": "8f965800-b43f-4bc0-8d97-65f5c1c0e5a5",
   "metadata": {},
   "outputs": [],
   "source": [
    "import sqlite3"
   ]
  },
  {
   "cell_type": "code",
   "execution_count": 3,
   "id": "6aadc274-9f2b-4d5b-8ff8-c4d402394a00",
   "metadata": {},
   "outputs": [],
   "source": [
    "dbname = 'four-choice_quiz.db'"
   ]
  },
  {
   "cell_type": "code",
   "execution_count": 40,
   "id": "9a62c401-0887-4d0f-a3a8-dcf0cf46567d",
   "metadata": {},
   "outputs": [],
   "source": [
    "# 接続。なければDBを作成する。\n",
    "conn = sqlite3.connect(dbname)\n",
    "# カーソルを取得\n",
    "c = conn.cursor()\n",
    "#テーブル名と各テーブルの属性を定義\n",
    "table_name = ['quiz','ans','connect','log']\n",
    "query = ['id integer primary key autoincrement, text varchar(50)',\n",
    "        'id integer primary key autoincrement, word varchar(10)',\n",
    "        'quiz_id integer,ans_id integer',\n",
    "        'quiz_id integer, ans_id integer ,dt datetime']\n",
    "\n",
    "#テーブルの存在の有無を確認sする\n",
    "for i in range(len(table_name)):\n",
    "    c.execute(\"SELECT * FROM sqlite_master WHERE type='table' and name='{}'\".format(table_name[i]))\n",
    "    #テーブルがない場合、テーブルを作成する\n",
    "    if not c.fetchone():\n",
    "        c.execute('CREATE TABLE {} ({})'.format(table_name[i],query[i]))\n",
    "# コミット\n",
    "conn.commit() \n",
    "# コネクションをクローズ\n",
    "conn.close()"
   ]
  },
  {
   "cell_type": "code",
   "execution_count": 104,
   "id": "38226077-337d-4b70-8f98-36e4b7bc1daa",
   "metadata": {},
   "outputs": [
    {
     "name": "stdout",
     "output_type": "stream",
     "text": [
      "quiz_id:8\n"
     ]
    }
   ],
   "source": [
    "conn = sqlite3.connect(dbname)\n",
    "c = conn.cursor()\n",
    "# 問題と答えを変数に代入する\n",
    "quiz_text = \"転生すらできるツヨツヨ主人公のくせに、女性に耐性がない魔王とヒロインであるサキュバスとエルフ2人が出演するアニメ名はどれか\"\n",
    "ans_word = ' 乙骨憂太'\n",
    "# 問題をquizテーブルに登録する\n",
    "c.execute( \"INSERT INTO quiz(text) VALUES (?)\", [quiz_text])\n",
    "c.execute('select id from quiz where text=?',[quiz_text])\n",
    "quiz = c.fetchall()\n",
    "quiz_id = quiz[0][0]\n",
    "print(f\"quiz_id:{quiz[0][0]}\")\n",
    "#答えをans1テーブルに登録する\n",
    "c.execute( \"INSERT INTO ans(word) VALUES (?)\",[ans_word])\n",
    "#問題と答えの関係を関係テーブルに登録する\n",
    "c.execute('select id from ans where word=?',[ans_word])\n",
    "ans = c.fetchall()\n",
    "ans_id = ans[0][0]\n",
    "c.execute( \"INSERT INTO connect(quiz_id, ans_id) VALUES (?,?)\",[quiz_id,ans_id])\n",
    "#後処理\n",
    "conn.commit()\n",
    "conn.close()"
   ]
  },
  {
   "cell_type": "code",
   "execution_count": 90,
   "id": "56d31df3-4920-461d-a72d-ef52bf7e9fe3",
   "metadata": {},
   "outputs": [],
   "source": [
    "conn = sqlite3.connect(dbname)\n",
    "c = conn.cursor()\n",
    "ans_list = ['キングダム','ワンピース','鬼滅の刃','ドラゴンボール','ナルト','チェンソーマン','リゼロ']\n",
    "#答えをans1テーブルに登録する\n",
    "for ans_word in ans_list:\n",
    "    c.execute( \"INSERT INTO ans(word) VALUES (?)\",[ans_word])\n",
    "conn.commit()\n",
    "conn.close()"
   ]
  },
  {
   "cell_type": "code",
   "execution_count": 26,
   "id": "541e24e0-1774-40cf-8476-e7c43a6b31a7",
   "metadata": {},
   "outputs": [
    {
     "name": "stdout",
     "output_type": "stream",
     "text": [
      "quiz: 転生すらできるツヨツヨ主人公のくせに、女性に耐性がない魔王とヒロインであるサキュバスとエルフ2人が出演するアニメ名はどれか\n",
      "true answer: 史上最強の大魔王、村人Aに転生する\n",
      "['２日', '寿司', '史上最強の大魔王、村人Aに転生する', 'チェンソーマン']\n"
     ]
    }
   ],
   "source": [
    "import random\n",
    "\n",
    "conn = sqlite3.connect(dbname)\n",
    "c = conn.cursor()\n",
    "#どの問題を呼び出すか選択する\n",
    "quiz_id = 8\n",
    "#問題文を抽出する\n",
    "c.execute('select text from quiz where id=?',[quiz_id])\n",
    "quiz = c.fetchall()\n",
    "if quiz == []:\n",
    "    print(\"quistion is nothing\")\n",
    "else:\n",
    "    print(f\"quiz: {quiz[0][0]}\")\n",
    "#答えを抽出する\n",
    "c.execute('select connect.ans_id from quiz,connect where connect.quiz_id == ?',[quiz_id])\n",
    "ans_id = c.fetchall()\n",
    "if ans_id==[]:\n",
    "    print(\"answer is nothing\")\n",
    "else:\n",
    "    c.execute('select word from ans where id == ?',[ans_id[0][0]])\n",
    "    ans_word = c.fetchall()\n",
    "    list = []\n",
    "    list.append(ans_word[0][0])\n",
    "    true_answer = ans_word[0][0]\n",
    "    print(f\"true answer: {ans_word[0][0]}\")\n",
    "    #間違いを抽出する\n",
    "    c.execute('SELECT word FROM ans where id != ? ORDER BY RANDOM() LIMIT 3',[ans_id[0][0]])\n",
    "    ans_list = c.fetchall()\n",
    "\n",
    "    for i in range(3):\n",
    "        list.append(ans_list[i][0])\n",
    "        #print(f\"false answer{i+1}: {ans_list[i][0]}\")\n",
    "random.shuffle(list)\n",
    "print(list)\n",
    "\n",
    "conn.commit()\n",
    "conn.close()"
   ]
  },
  {
   "cell_type": "code",
   "execution_count": 52,
   "id": "c9a6956c-19d6-456a-893c-116696047de7",
   "metadata": {},
   "outputs": [
    {
     "name": "stdout",
     "output_type": "stream",
     "text": [
      "false\n",
      "2022-05-13 18:38:05.073792\n"
     ]
    }
   ],
   "source": [
    "number = 1\n",
    "if true_answer == list[number-1]:\n",
    "    print('true')\n",
    "else :\n",
    "    print('false')\n",
    "\n",
    "import datetime\n",
    "\n",
    "dt_now = datetime.datetime.now()\n",
    "\n",
    "print(dt_now)\n",
    "\n",
    "conn = sqlite3.connect(dbname)\n",
    "c = conn.cursor()\n",
    "\n",
    "c.execute(\"INSERT INTO log(quiz_id, ans_id, ts) VALUES ({0},{1},datetime('now', 'localtime'))\".format(quiz_id, number))\n",
    "\n",
    "conn.commit()\n",
    "conn.close()"
   ]
  },
  {
   "cell_type": "code",
   "execution_count": null,
   "id": "6568934c-fd9e-47f9-9a90-fae9e5d30e0b",
   "metadata": {},
   "outputs": [],
   "source": []
  }
 ],
 "metadata": {
  "kernelspec": {
   "display_name": "Python 3 (ipykernel)",
   "language": "python",
   "name": "python3"
  },
  "language_info": {
   "codemirror_mode": {
    "name": "ipython",
    "version": 3
   },
   "file_extension": ".py",
   "mimetype": "text/x-python",
   "name": "python",
   "nbconvert_exporter": "python",
   "pygments_lexer": "ipython3",
   "version": "3.9.6"
  }
 },
 "nbformat": 4,
 "nbformat_minor": 5
}
